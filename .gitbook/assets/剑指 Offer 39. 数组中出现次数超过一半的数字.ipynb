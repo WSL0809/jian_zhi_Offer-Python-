{
 "cells": [
  {
   "cell_type": "code",
   "execution_count": 6,
   "metadata": {},
   "outputs": [],
   "source": [
    "import collections\n",
    "#HashTable\n",
    "def majorityElement1(nums:list[int]) -> int:\n",
    "    counts = collections.Counter(nums)\n",
    "    return max(counts.keys(), key=counts.get)"
   ]
  },
  {
   "cell_type": "code",
   "execution_count": 4,
   "metadata": {},
   "outputs": [],
   "source": [
    "def majorityElement2(nums:list[int]) -> int:\n",
    "    nums.sort()\n",
    "    return nums[len(nums) // 2]"
   ]
  },
  {
   "cell_type": "code",
   "execution_count": 7,
   "metadata": {},
   "outputs": [
    {
     "name": "stdout",
     "output_type": "stream",
     "text": [
      "2\n",
      "2\n"
     ]
    }
   ],
   "source": [
    "\n",
    "\n",
    "arr = [1,2,2,2,2,2,2,24,5]\n",
    "\n",
    "res1 = majorityElement1(arr)\n",
    "res2 = majorityElement2(arr)\n",
    "print(res1)\n",
    "print(res2)\n"
   ]
  }
 ],
 "metadata": {
  "kernelspec": {
   "display_name": "Python 3.9.12 ('base')",
   "language": "python",
   "name": "python3"
  },
  "language_info": {
   "codemirror_mode": {
    "name": "ipython",
    "version": 3
   },
   "file_extension": ".py",
   "mimetype": "text/x-python",
   "name": "python",
   "nbconvert_exporter": "python",
   "pygments_lexer": "ipython3",
   "version": "3.9.12"
  },
  "orig_nbformat": 4,
  "vscode": {
   "interpreter": {
    "hash": "d77e5643c4104dda41be4a38244d5f78b6f5feed8de8198314d5a954004f00c9"
   }
  }
 },
 "nbformat": 4,
 "nbformat_minor": 2
}
