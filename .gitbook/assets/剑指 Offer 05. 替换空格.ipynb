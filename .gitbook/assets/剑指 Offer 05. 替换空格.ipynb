{
 "cells": [
  {
   "cell_type": "code",
   "execution_count": 2,
   "metadata": {},
   "outputs": [],
   "source": [
    "#方法1：遍历添加\n",
    "def replaceSpace1(s:str) -> str:\n",
    "    res = []\n",
    "    for c in s:\n",
    "        if c == ' ':\n",
    "            res.append(\"%20\")\n",
    "        else:\n",
    "            res.append(c)\n",
    "    return \"\".join(res)\n"
   ]
  },
  {
   "cell_type": "code",
   "execution_count": 3,
   "metadata": {},
   "outputs": [
    {
     "name": "stdout",
     "output_type": "stream",
     "text": [
      "Ear%20Trumpet\n"
     ]
    }
   ],
   "source": [
    "s = \"Ear Trumpet\"\n",
    "print(replaceSpace1(s))"
   ]
  }
 ],
 "metadata": {
  "kernelspec": {
   "display_name": "Python 3.9.12 ('base')",
   "language": "python",
   "name": "python3"
  },
  "language_info": {
   "codemirror_mode": {
    "name": "ipython",
    "version": 3
   },
   "file_extension": ".py",
   "mimetype": "text/x-python",
   "name": "python",
   "nbconvert_exporter": "python",
   "pygments_lexer": "ipython3",
   "version": "3.9.12"
  },
  "orig_nbformat": 4,
  "vscode": {
   "interpreter": {
    "hash": "d77e5643c4104dda41be4a38244d5f78b6f5feed8de8198314d5a954004f00c9"
   }
  }
 },
 "nbformat": 4,
 "nbformat_minor": 2
}
